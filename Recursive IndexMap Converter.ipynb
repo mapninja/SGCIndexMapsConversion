{
 "cells": [
  {
   "cell_type": "code",
   "execution_count": 114,
   "metadata": {},
   "outputs": [
    {
     "name": "stdout",
     "output_type": "stream",
     "text": [
      "/Users/maples/Documents/GitHub/SGCIndexMapsConversion/input\n",
      "['/Users/maples/Documents/GitHub/SGCIndexMapsConversion/input/Completed_IndexMaps/Sanborns/SANB_2926183', '/Users/maples/Documents/GitHub/SGCIndexMapsConversion/input/Completed_IndexMaps/Sanborns/SANB_2924448', '/Users/maples/Documents/GitHub/SGCIndexMapsConversion/input/Completed_IndexMaps/Sanborns/SANB_2925132', '/Users/maples/Documents/GitHub/SGCIndexMapsConversion/input/Completed_IndexMaps/Sanborns/SANB_2923493', '/Users/maples/Documents/GitHub/SGCIndexMapsConversion/input/Completed_IndexMaps/Sanborns/SANB_2504288', '/Users/maples/Documents/GitHub/SGCIndexMapsConversion/input/Completed_IndexMaps/Sanborns/SANB_2924819', '/Users/maples/Documents/GitHub/SGCIndexMapsConversion/input/Completed_IndexMaps/Sanborns/SANB_2926171', '/Users/maples/Documents/GitHub/SGCIndexMapsConversion/input/Completed_IndexMaps/Sanborns/SANB_2925791', '/Users/maples/Documents/GitHub/SGCIndexMapsConversion/input/Completed_IndexMaps/Sanborns/SANB_2925133', '/Users/maples/Documents/GitHub/SGCIndexMapsConversion/input/Completed_IndexMaps/Sanborns/SANB_2925134', '/Users/maples/Documents/GitHub/SGCIndexMapsConversion/input/Completed_IndexMaps/Sanborns/SANB_2926201', '/Users/maples/Documents/GitHub/SGCIndexMapsConversion/input/Completed_IndexMaps/Sanborns/SANB_2727260', '/Users/maples/Documents/GitHub/SGCIndexMapsConversion/input/Completed_IndexMaps/Sanborns/SANB_2923536', '/Users/maples/Documents/GitHub/SGCIndexMapsConversion/input/Completed_IndexMaps/Sanborns/SANB_2924454', '/Users/maples/Documents/GitHub/SGCIndexMapsConversion/input/Completed_IndexMaps/Sanborns/SANB_2926153', '/Users/maples/Documents/GitHub/SGCIndexMapsConversion/input/Completed_IndexMaps/Sanborns/SANB_2725222', '/Users/maples/Documents/GitHub/SGCIndexMapsConversion/input/Completed_IndexMaps/Sanborns/SANB_2922794', '/Users/maples/Documents/GitHub/SGCIndexMapsConversion/input/Completed_IndexMaps/Sanborns/SANB_2925131', '/Users/maples/Documents/GitHub/SGCIndexMapsConversion/input/Completed_IndexMaps/Sanborns/SANB_2926203', '/Users/maples/Documents/GitHub/SGCIndexMapsConversion/input/Completed_IndexMaps/Sanborns/SANB_2925815', '/Users/maples/Documents/GitHub/SGCIndexMapsConversion/input/Completed_IndexMaps/Sanborns/SANB_2924735', '/Users/maples/Documents/GitHub/SGCIndexMapsConversion/input/Completed_IndexMaps/Sanborns/SANB_2925825', '/Users/maples/Documents/GitHub/SGCIndexMapsConversion/input/Completed_IndexMaps/Sanborns/SANB_2923518', '/Users/maples/Documents/GitHub/SGCIndexMapsConversion/input/Completed_IndexMaps/Sanborns/SANB_2925058', '/Users/maples/Documents/GitHub/SGCIndexMapsConversion/input/Completed_IndexMaps/Sanborns/SANB_2725307', '/Users/maples/Documents/GitHub/SGCIndexMapsConversion/input/Completed_IndexMaps/Sanborns/SANB_2922827', '/Users/maples/Documents/GitHub/SGCIndexMapsConversion/input/Completed_IndexMaps/Sanborns/SANB_2926166', '/Users/maples/Documents/GitHub/SGCIndexMapsConversion/input/Completed_IndexMaps/Sanborns/SANB_2925123', '/Users/maples/Documents/GitHub/SGCIndexMapsConversion/input/Completed_IndexMaps/Sanborns/SANB_2924459', '/Users/maples/Documents/GitHub/SGCIndexMapsConversion/input/Completed_IndexMaps/Sanborns/SANB_2922791', '/Users/maples/Documents/GitHub/SGCIndexMapsConversion/input/Completed_IndexMaps/Sanborns/SANB_2926160', '/Users/maples/Documents/GitHub/SGCIndexMapsConversion/input/Completed_IndexMaps/Sanborns/SANB_3743757']\n"
     ]
    }
   ],
   "source": [
    "#Import modules\n",
    "import glob2, os, gdal, fnmatch\n",
    "\n",
    "#Set base directory to location of script\n",
    "base_directory = os.path.abspath('./input/')\n",
    "\n",
    "print(base_directory)\n",
    "\n",
    "# #Make a list of  directories with 'MUL' in the path\n",
    "files = glob.glob(base_directory+'/Completed_IndexMaps/Sanborns/SANB_*')\n",
    "print(files)\n"
   ]
  },
  {
   "cell_type": "code",
   "execution_count": null,
   "metadata": {},
   "outputs": [],
   "source": []
  },
  {
   "cell_type": "code",
   "execution_count": null,
   "metadata": {},
   "outputs": [],
   "source": []
  }
 ],
 "metadata": {
  "kernelspec": {
   "display_name": "Python 3",
   "language": "python",
   "name": "python3"
  },
  "language_info": {
   "codemirror_mode": {
    "name": "ipython",
    "version": 3
   },
   "file_extension": ".py",
   "mimetype": "text/x-python",
   "name": "python",
   "nbconvert_exporter": "python",
   "pygments_lexer": "ipython3",
   "version": "3.7.3"
  }
 },
 "nbformat": 4,
 "nbformat_minor": 2
}
